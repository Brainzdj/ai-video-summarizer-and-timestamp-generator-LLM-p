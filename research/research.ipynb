{
 "cells": [
  {
   "cell_type": "markdown",
   "metadata": {},
   "source": [
    "## Youtube Video Transcription "
   ]
  },
  {
   "cell_type": "code",
   "execution_count": 9,
   "metadata": {},
   "outputs": [],
   "source": [
    "from youtube_transcript_api import YouTubeTranscriptApi"
   ]
  },
  {
   "cell_type": "code",
   "execution_count": 20,
   "metadata": {},
   "outputs": [],
   "source": [
    "def youtube_transcript(video_id):\n",
    "    transcript_dict=YouTubeTranscriptApi.get_transcript(video_id)\n",
    "    final_transcript = \"\"\n",
    "    for i in transcript_dict:\n",
    "        final_transcript += \" \" + i[\"text\"]\n",
    "    return final_transcript"
   ]
  },
  {
   "cell_type": "code",
   "execution_count": 29,
   "metadata": {},
   "outputs": [
    {
     "data": {
      "text/plain": [
       "\" sponsored by T Mobile I just can't have the same conversations anymore yes the bezels are Slimmer yes the screen is flat and yes the pen still has an S on it but if you're looking forc exent in smartphones at least those without a hinge software is where it's at these days and that's why Samsung has chosen to pitch its newest most expensive bar type Galaxy as an AI phone yeah the buzzword I managed to mostly avoid at this year's CES in Las Vegas finally caught up with me at Samsung's unpacked Event in San Jose and here's the thing AI actually does make it easier to get excited about this year's Galaxy Ultra the only only question is it's one of those years for how long take note I'm not saying the ultra as a whole wins me over externally this is what the national might call another unoc elegant fall into the unmagnify year upgrade cycle the s24 ultra is big and sharp like always now bearing a frame made of a metal that Apple has all but copyrighted with all its Relentless advertising but switching to Titanium made sense for the iPhone because it's much lighter than the stainless steel it replaced letting Apple shave between 8 and 9% of mass off the phone the titanium on the s24 ultra replaces aluminum on the s23 ultra making the 24 1 G lighter than its predecessor and because of the way titanium takes color Samsung is consigned to a similarly drab palette as as the iPhone for this generation with options ranging from slightly warmer than the iPhone gray to uh I don't know whatever this is half-hearted tapioca though I admit I do like the purple one and samsung.com has additional color ways to satisfy appetites both subtle and gross there are changes here I appreciate ones that make a practical difference the display is brighter and covered by a stronger and less reflective Gorilla Glass which means the screen that was already the best you could find on a phone is somehow even better and the bezels bracketing it aren't just Slimmer they're now symmetrical I was ready to wrap it up there all dejected like when an eagle-eyed Samsung rep noticed my frustrated apathy and directed me to this wall of Wonder I somehow completely missed the flip suitcases that came out for the Galaxy flip 5 last year which is a shame because they're really really cool you slap one of these back plates onto the phone and a little NFC tag inside the plate triggers an automatic download of an animated wallpaper to match this isn't the first time I've seen something like this I think Yola was the first to do it or at least the first one that hit my radar about a decade ago but it's such a cool clever and simple way to customize your phone the only thing I'd change is to make it properly magnetic like a moto mod as shipped the plate won't stick to your phone by itself you need to install the included bumper border to keep it in place oh and speaking of magnets that aren't there while the phone is capable of wireless charging the new ch2 standard which basically gives Android phones mag safe yeah that's not here maybe that's because magnets screw up the S Pen but let's be real if Samsung wanted to make this work it could have engineered its way around it instead Samsung F focused on making a product it could package as the AI phone I know the term AI has been so thoroughly buzzword ified as to become basically meaningless but it is useful given the proper context as I said on mediat techs living in the future podcast you can think of AI as a kind of seasoning like adding spices to a meal adding AI to different parts of a device can enhance and extend the capabilities of that device on the whole Samsung has seasoned quite a bit of the s24 ultra with generative Ai and it's set up a ton of demos for us to try in Los Vegas check out The Interpreter which I used to have an in-person conversation with a Spanish-speaking presenter I desperately need to find a library immediately nice you know if you make a r there you'll find it okay but what about a beer afterwards the library also serves [Laughter] beer what a great place thank you now of course you've been able to use your phone to translate conversations for years the difference here is that the processing is happening on the phone instead of in the cloud that helps it stay fairly Speedy even if your data connection is slow and if you're in an area with no signal at all it'll still work that translation is also built into the Samsung dialer so if you make a phone call to someone who speaks a different language you get a realtime Robo translation that works pretty well at least if you're asking a staged Samsung presenter where to find a cheese Berger in Korean of course I'm glad to hear that but it works somewhat less well if you're talking to your sister in France who's fluent in French and who tells you that the translation leaves room for improvement okay what the translation is do I think it's not top it's not great it's not very correct and L you think she's not as fluent as she thinks she is these findings are somewhat substantiated by Gadget matches Michael Josh in his video here or butter chicken recipe lots of you love and World Kim's recipe okay so it's not really doing an exact translation absolutely what else can you do with Galaxy AI big asterisk on that brand name that I'll come back to in a bit on the positive side of the patronic Divide I think my favorite AI feature is the new voice recorder which can not only transcribe a conversation but now also summarize it so you don't need to read through the entire transcript to remember key points I tested this by recording the Android police podcast which yielded a pretty solid summary and then I used it in real life first on a goom Market call with the clicks team and then in a session with my therapist no I'm not going to show you that conversation but seeing our call broken down into a succinct mostly coherent outline you know I I could see this being really helpful to review before my next session I found that therapist through an online counseling service by the way and that would be a great segue into a sponsor spot if they were my sponsor no today's sponsor is a better form of superior assistance T Mobile fun fact when I used to be a mobile phone salesman the only unlimited plan I could offer cost $200 a month that yeah I never sold a single one so it's it's kind of crazy to me that today you can get unlimited everything for $25 a month from my sponsor T Mobile those 25 bucks get you 35 gigs of data 5 gigs of mobile hotspot so you can stay connected from your laptop and unlimited text and talk including free calls to over 60 countries or you can build your own phone plan starting at $5 a month and you can upgrade or downgrade whenever you want because T is that flexible you'll enjoy a smooth switch to T no contract no hidden fees and no need to buy a new phone as long as yours is compatible order your sim online from t.com or activate instantly with their eim option te it's premium phone service without the premium price hit the link in the description to try him out and tell them Mr mobile sent [Music] you all right back to the hardware but sticking with the smarts there's a generous helping of generative AI in the these cameras generative fill for filling in the frame if you need to adjust your horizon making a subject bigger or smaller or moving it for whatever reason oh and something I actually like the shadow removal in Samsung's photo editor is truly Next Level props to techisode TV for pointing that out to me also you've probably seen this neat trick already you can press and hold a video your shot to create a slow motion version and this works even if you weren't shooting in slow-mo for the same reason everything on a hotel TV looks like a European soap opera the device is adding artificial frames between the real ones in order to smooth out what would otherwise be a juty stutter Fest as for the Optics that feed those alos well Samsung made the controversial decision to swap last year's 10x Zoom for a higher resolution 5x zoom on this one based on user data that suggested people used 5x more often in the past I might have spent the next 10 minutes weighing whether it does or doesn't matter but in truth I don't think it does when I posted s23 versus s24 samples from San Jose followers on threads said they couldn't tell much of a difference thanks in part to social media compression that most photos are going to go through anyway look pixel peeping is a noble profession but from my perspective if anything the camera shift is just another in a series of shruggle decisions probably invisible to most folks because the phone is still capable of more zoom performance than almost any other in the US and offset by better video stabilization which I sort of Saw sometimes and greater compatibility with social media apps like Instagram yeah sure ah Oh What a Feeling if the camera shakeup irritates anyone it's those of us oldtimers who remember the old Samsung the company that wouldn't feel the need to remove a camera in order to add add another that Samsung would have said hey for 1,300 bucks you get five cameras on the back instead of four but um those days it seems are behind [Music] us hey I owe you an asterisk if you guessed it's about Samsung potentially charging for its AI features after 2025 well guess again honestly that doesn't surprise me everything is moving to a subscription ion model these days and from one perspective might actually be a good thing in that it would incentivize Samsung to keep improving these features if Samsung were the one making them and that's the real asterisk a lot of Galaxy AI depends on Google AI specifically the Gemini AI model so while Samsung built the apps that tap into Gemini and it gets first crack at them on the s24 many of these features will come to other Android phones and some are already there Circle to search the most talked about new feature is coming to the pixel 8 the same day it launches on the s24 by some accounts the pixel's new voice memo summary is already better than Samsung's and many of the photo editing features already have Google equivalents and that's why I come away from 9 days with the s24 ultra somewhat underwhelmed not because it's not impressive but because most of the things that impress me won't stay unique to this phone for long as that same Android police podcast episode noted Samsung has seldom been known for pushing the envelope on software where it usually shines is in hardware and while this Hardware is very good and the 7-year update promise is wonderful and the tradein deals are as insane as ever I just can't help but feel this year's Ultra doesn't totally justify its asking price this video was filmed partially on location at Samsung unpacked in San Jose California for which Samsung provided travel lodging and content capture opportunities including a redwood forest train ride and a visit to the Santa Cruz Mystery Spot however as always the company had no editorial input into this review nor did I give Samsung copy approval privileges or even an early preview the loone sponsor of this video is T Mobile Please Subscribe if you'd like to see more videos like this until next time from Michael Fischer Captain two phones on threads thanks for watching and stay mobile my [Music] friends\""
      ]
     },
     "execution_count": 29,
     "metadata": {},
     "output_type": "execute_result"
    }
   ],
   "source": [
    "youtube_transcript(\"GuErWFsHSzM&pp\")"
   ]
  },
  {
   "cell_type": "markdown",
   "metadata": {},
   "source": [
    "## Video title retrival"
   ]
  },
  {
   "cell_type": "code",
   "execution_count": 5,
   "metadata": {},
   "outputs": [
    {
     "name": "stdout",
     "output_type": "stream",
     "text": [
      "Samsung S24 Ultra Review: Galaxy Brain\n"
     ]
    }
   ],
   "source": [
    "import pafy\n",
    "url = \"https://www.youtube.com/watch?v=GuErWFsHSzM\"\n",
    "video = pafy.new(url)\n",
    "\n",
    "print(video.title)"
   ]
  },
  {
   "cell_type": "markdown",
   "metadata": {},
   "source": [
    "## VideoID Retrival "
   ]
  },
  {
   "cell_type": "code",
   "execution_count": 32,
   "metadata": {},
   "outputs": [
    {
     "name": "stdout",
     "output_type": "stream",
     "text": [
      "GuErWFsHSzM&pp\n"
     ]
    }
   ],
   "source": [
    "link = \"https://www.youtube.com/watch?v=GuErWFsHSzM\"\n",
    "link2 = \"https://www.youtube.com/watch?v=GuErWFsHSzM&pp=ygUJbXIgbW9iaWxl\"\n",
    "video_id = link2.split(\"=\")[1]\n",
    "print(video_id)"
   ]
  },
  {
   "cell_type": "markdown",
   "metadata": {},
   "source": [
    "## Google gemini"
   ]
  },
  {
   "cell_type": "code",
   "execution_count": null,
   "metadata": {},
   "outputs": [],
   "source": []
  }
 ],
 "metadata": {
  "kernelspec": {
   "display_name": "base",
   "language": "python",
   "name": "python3"
  },
  "language_info": {
   "codemirror_mode": {
    "name": "ipython",
    "version": 3
   },
   "file_extension": ".py",
   "mimetype": "text/x-python",
   "name": "python",
   "nbconvert_exporter": "python",
   "pygments_lexer": "ipython3",
   "version": "3.9.13"
  }
 },
 "nbformat": 4,
 "nbformat_minor": 2
}
