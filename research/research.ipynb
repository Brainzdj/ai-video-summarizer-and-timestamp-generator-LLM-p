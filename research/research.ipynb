{
 "cells": [
  {
   "cell_type": "markdown",
   "metadata": {},
   "source": [
    "## VideoID Retrival "
   ]
  },
  {
   "cell_type": "code",
   "execution_count": 32,
   "metadata": {},
   "outputs": [
    {
     "name": "stdout",
     "output_type": "stream",
     "text": [
      "GuErWFsHSzM&pp\n"
     ]
    }
   ],
   "source": [
    "link = \"https://www.youtube.com/watch?v=GuErWFsHSzM\"\n",
    "link2 = \"https://www.youtube.com/watch?v=GuErWFsHSzM&pp=ygUJbXIgbW9iaWxl\"\n",
    "video_id = link2.split(\"=\")[1]\n",
    "print(video_id)"
   ]
  },
  {
   "cell_type": "markdown",
   "metadata": {},
   "source": [
    "## Youtube Video Transcription "
   ]
  },
  {
   "cell_type": "code",
   "execution_count": 9,
   "metadata": {},
   "outputs": [],
   "source": [
    "from youtube_transcript_api import YouTubeTranscriptApi"
   ]
  },
  {
   "cell_type": "code",
   "execution_count": 20,
   "metadata": {},
   "outputs": [],
   "source": [
    "def youtube_transcript(video_id):\n",
    "    transcript_dict=YouTubeTranscriptApi.get_transcript(video_id)\n",
    "    final_transcript = \"\"\n",
    "    for i in transcript_dict:\n",
    "        final_transcript += \" \" + i[\"text\"]\n",
    "    return final_transcript"
   ]
  },
  {
   "cell_type": "code",
   "execution_count": null,
   "metadata": {},
   "outputs": [],
   "source": [
    "youtube_transcript(\"GuErWFsHSzM&pp\")"
   ]
  },
  {
   "cell_type": "markdown",
   "metadata": {},
   "source": [
    "## Video title retrival"
   ]
  },
  {
   "cell_type": "code",
   "execution_count": 6,
   "metadata": {},
   "outputs": [
    {
     "name": "stdout",
     "output_type": "stream",
     "text": [
      "Samsung S24 Ultra Review: Galaxy Brain\n"
     ]
    }
   ],
   "source": [
    "from bs4 import BeautifulSoup\n",
    "import requests\n",
    "\n",
    "url = \"https://www.youtube.com/watch?v=GuErWFsHSzM\"\n",
    "r = requests.get(url) \n",
    "s = BeautifulSoup(r.text, \"html.parser\") \n",
    "title = s.find(\"meta\", itemprop=\"name\")[\"content\"]\n",
    "\n",
    "print(title)"
   ]
  }
 ],
 "metadata": {
  "kernelspec": {
   "display_name": "base",
   "language": "python",
   "name": "python3"
  },
  "language_info": {
   "codemirror_mode": {
    "name": "ipython",
    "version": 3
   },
   "file_extension": ".py",
   "mimetype": "text/x-python",
   "name": "python",
   "nbconvert_exporter": "python",
   "pygments_lexer": "ipython3",
   "version": "3.9.13"
  }
 },
 "nbformat": 4,
 "nbformat_minor": 2
}
